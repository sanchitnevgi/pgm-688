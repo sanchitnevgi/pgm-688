{
 "cells": [
  {
   "cell_type": "code",
   "execution_count": 1,
   "metadata": {},
   "outputs": [],
   "source": [
    "import numpy as np\n",
    "import pandas as pd\n",
    "import os"
   ]
  },
  {
   "cell_type": "code",
   "execution_count": 2,
   "metadata": {},
   "outputs": [
    {
     "data": {
      "text/html": [
       "<div>\n",
       "<style scoped>\n",
       "    .dataframe tbody tr th:only-of-type {\n",
       "        vertical-align: middle;\n",
       "    }\n",
       "\n",
       "    .dataframe tbody tr th {\n",
       "        vertical-align: top;\n",
       "    }\n",
       "\n",
       "    .dataframe thead th {\n",
       "        text-align: right;\n",
       "    }\n",
       "</style>\n",
       "<table border=\"1\" class=\"dataframe\">\n",
       "  <thead>\n",
       "    <tr style=\"text-align: right;\">\n",
       "      <th></th>\n",
       "      <th>A</th>\n",
       "      <th>G</th>\n",
       "      <th>CP</th>\n",
       "      <th>BP</th>\n",
       "      <th>CH</th>\n",
       "      <th>ECG</th>\n",
       "      <th>HR</th>\n",
       "      <th>EIA</th>\n",
       "      <th>HD</th>\n",
       "    </tr>\n",
       "  </thead>\n",
       "  <tbody>\n",
       "    <tr>\n",
       "      <th>0</th>\n",
       "      <td>3</td>\n",
       "      <td>2</td>\n",
       "      <td>4</td>\n",
       "      <td>2</td>\n",
       "      <td>2</td>\n",
       "      <td>2</td>\n",
       "      <td>1</td>\n",
       "      <td>2</td>\n",
       "      <td>2</td>\n",
       "    </tr>\n",
       "    <tr>\n",
       "      <th>1</th>\n",
       "      <td>3</td>\n",
       "      <td>2</td>\n",
       "      <td>4</td>\n",
       "      <td>1</td>\n",
       "      <td>2</td>\n",
       "      <td>2</td>\n",
       "      <td>1</td>\n",
       "      <td>2</td>\n",
       "      <td>2</td>\n",
       "    </tr>\n",
       "    <tr>\n",
       "      <th>2</th>\n",
       "      <td>1</td>\n",
       "      <td>2</td>\n",
       "      <td>3</td>\n",
       "      <td>2</td>\n",
       "      <td>2</td>\n",
       "      <td>1</td>\n",
       "      <td>2</td>\n",
       "      <td>1</td>\n",
       "      <td>1</td>\n",
       "    </tr>\n",
       "    <tr>\n",
       "      <th>3</th>\n",
       "      <td>1</td>\n",
       "      <td>1</td>\n",
       "      <td>2</td>\n",
       "      <td>2</td>\n",
       "      <td>2</td>\n",
       "      <td>2</td>\n",
       "      <td>2</td>\n",
       "      <td>1</td>\n",
       "      <td>1</td>\n",
       "    </tr>\n",
       "    <tr>\n",
       "      <th>4</th>\n",
       "      <td>3</td>\n",
       "      <td>2</td>\n",
       "      <td>2</td>\n",
       "      <td>1</td>\n",
       "      <td>2</td>\n",
       "      <td>1</td>\n",
       "      <td>2</td>\n",
       "      <td>1</td>\n",
       "      <td>1</td>\n",
       "    </tr>\n",
       "  </tbody>\n",
       "</table>\n",
       "</div>"
      ],
      "text/plain": [
       "   A  G CP BP CH ECG HR EIA HD\n",
       "0  3  2  4  2  2   2  1   2  2\n",
       "1  3  2  4  1  2   2  1   2  2\n",
       "2  1  2  3  2  2   1  2   1  1\n",
       "3  1  1  2  2  2   2  2   1  1\n",
       "4  3  2  2  1  2   1  2   1  1"
      ]
     },
     "execution_count": 2,
     "metadata": {},
     "output_type": "execute_result"
    }
   ],
   "source": [
    "column_names = [\"A\", \"G\", \"CP\", \"BP\", \"CH\", \"ECG\", \"HR\", \"EIA\", \"HD\"]\n",
    "\n",
    "df = pd.read_csv(\n",
    "        './Data/data-train-1.txt',\n",
    "        header=None, \n",
    "        names=column_names\n",
    "    ).astype(\"category\")\n",
    "df.head()"
   ]
  },
  {
   "cell_type": "code",
   "execution_count": 3,
   "metadata": {},
   "outputs": [],
   "source": [
    "pt1 = df['A']\n",
    "pt1 = pt1.groupby(pt1).count()"
   ]
  },
  {
   "cell_type": "code",
   "execution_count": 4,
   "metadata": {},
   "outputs": [
    {
     "data": {
      "text/plain": [
       "A\n",
       "1    0.176955\n",
       "2    0.308642\n",
       "3    0.514403\n",
       "Name: A, dtype: float64"
      ]
     },
     "execution_count": 4,
     "metadata": {},
     "output_type": "execute_result"
    }
   ],
   "source": [
    "pt1 / pt1.sum()"
   ]
  },
  {
   "cell_type": "code",
   "execution_count": 5,
   "metadata": {},
   "outputs": [
    {
     "data": {
      "text/html": [
       "<div>\n",
       "<style scoped>\n",
       "    .dataframe tbody tr th:only-of-type {\n",
       "        vertical-align: middle;\n",
       "    }\n",
       "\n",
       "    .dataframe tbody tr th {\n",
       "        vertical-align: top;\n",
       "    }\n",
       "\n",
       "    .dataframe thead th {\n",
       "        text-align: right;\n",
       "    }\n",
       "</style>\n",
       "<table border=\"1\" class=\"dataframe\">\n",
       "  <thead>\n",
       "    <tr style=\"text-align: right;\">\n",
       "      <th></th>\n",
       "      <th>BP</th>\n",
       "      <th>G</th>\n",
       "    </tr>\n",
       "  </thead>\n",
       "  <tbody>\n",
       "    <tr>\n",
       "      <th>6</th>\n",
       "      <td>1</td>\n",
       "      <td>1</td>\n",
       "    </tr>\n",
       "    <tr>\n",
       "      <th>21</th>\n",
       "      <td>1</td>\n",
       "      <td>1</td>\n",
       "    </tr>\n",
       "    <tr>\n",
       "      <th>41</th>\n",
       "      <td>1</td>\n",
       "      <td>1</td>\n",
       "    </tr>\n",
       "    <tr>\n",
       "      <th>70</th>\n",
       "      <td>1</td>\n",
       "      <td>1</td>\n",
       "    </tr>\n",
       "    <tr>\n",
       "      <th>83</th>\n",
       "      <td>1</td>\n",
       "      <td>1</td>\n",
       "    </tr>\n",
       "  </tbody>\n",
       "</table>\n",
       "</div>"
      ],
      "text/plain": [
       "   BP  G\n",
       "6   1  1\n",
       "21  1  1\n",
       "41  1  1\n",
       "70  1  1\n",
       "83  1  1"
      ]
     },
     "execution_count": 5,
     "metadata": {},
     "output_type": "execute_result"
    }
   ],
   "source": [
    "pt2 = df[['BP', 'G']].sort_values(['G', 'BP'])\n",
    "pt2.head()"
   ]
  },
  {
   "cell_type": "code",
   "execution_count": 6,
   "metadata": {},
   "outputs": [
    {
     "data": {
      "text/plain": [
       "G\n",
       "1     82\n",
       "2    161\n",
       "dtype: int64"
      ]
     },
     "execution_count": 6,
     "metadata": {},
     "output_type": "execute_result"
    }
   ],
   "source": [
    "pt2.groupby('G').size()"
   ]
  },
  {
   "cell_type": "code",
   "execution_count": 7,
   "metadata": {},
   "outputs": [
    {
     "name": "stderr",
     "output_type": "stream",
     "text": [
      "/Users/sanchitnevgi/anaconda3/envs/commonsense/lib/python3.6/site-packages/ipykernel_launcher.py:1: UserWarning: Boolean Series key will be reindexed to match DataFrame index.\n",
      "  \"\"\"Entry point for launching an IPython kernel.\n"
     ]
    },
    {
     "data": {
      "text/html": [
       "<div>\n",
       "<style scoped>\n",
       "    .dataframe tbody tr th:only-of-type {\n",
       "        vertical-align: middle;\n",
       "    }\n",
       "\n",
       "    .dataframe tbody tr th {\n",
       "        vertical-align: top;\n",
       "    }\n",
       "\n",
       "    .dataframe thead th {\n",
       "        text-align: right;\n",
       "    }\n",
       "</style>\n",
       "<table border=\"1\" class=\"dataframe\">\n",
       "  <thead>\n",
       "    <tr style=\"text-align: right;\">\n",
       "      <th></th>\n",
       "      <th>G</th>\n",
       "    </tr>\n",
       "    <tr>\n",
       "      <th>BP</th>\n",
       "      <th></th>\n",
       "    </tr>\n",
       "  </thead>\n",
       "  <tbody>\n",
       "    <tr>\n",
       "      <th>1</th>\n",
       "      <td>0.365854</td>\n",
       "    </tr>\n",
       "    <tr>\n",
       "      <th>2</th>\n",
       "      <td>0.634146</td>\n",
       "    </tr>\n",
       "  </tbody>\n",
       "</table>\n",
       "</div>"
      ],
      "text/plain": [
       "           G\n",
       "BP          \n",
       "1   0.365854\n",
       "2   0.634146"
      ]
     },
     "execution_count": 7,
     "metadata": {},
     "output_type": "execute_result"
    }
   ],
   "source": [
    "pt2_2 = pt2[df.G == 1].groupby('BP').count()\n",
    "pt2_2 / pt2_2.sum()"
   ]
  },
  {
   "cell_type": "code",
   "execution_count": 8,
   "metadata": {},
   "outputs": [
    {
     "name": "stderr",
     "output_type": "stream",
     "text": [
      "/Users/sanchitnevgi/anaconda3/envs/commonsense/lib/python3.6/site-packages/ipykernel_launcher.py:1: UserWarning: Boolean Series key will be reindexed to match DataFrame index.\n",
      "  \"\"\"Entry point for launching an IPython kernel.\n"
     ]
    },
    {
     "data": {
      "text/html": [
       "<div>\n",
       "<style scoped>\n",
       "    .dataframe tbody tr th:only-of-type {\n",
       "        vertical-align: middle;\n",
       "    }\n",
       "\n",
       "    .dataframe tbody tr th {\n",
       "        vertical-align: top;\n",
       "    }\n",
       "\n",
       "    .dataframe thead th {\n",
       "        text-align: right;\n",
       "    }\n",
       "</style>\n",
       "<table border=\"1\" class=\"dataframe\">\n",
       "  <thead>\n",
       "    <tr style=\"text-align: right;\">\n",
       "      <th></th>\n",
       "      <th>G</th>\n",
       "    </tr>\n",
       "    <tr>\n",
       "      <th>BP</th>\n",
       "      <th></th>\n",
       "    </tr>\n",
       "  </thead>\n",
       "  <tbody>\n",
       "    <tr>\n",
       "      <th>1</th>\n",
       "      <td>0.47205</td>\n",
       "    </tr>\n",
       "    <tr>\n",
       "      <th>2</th>\n",
       "      <td>0.52795</td>\n",
       "    </tr>\n",
       "  </tbody>\n",
       "</table>\n",
       "</div>"
      ],
      "text/plain": [
       "          G\n",
       "BP         \n",
       "1   0.47205\n",
       "2   0.52795"
      ]
     },
     "execution_count": 8,
     "metadata": {},
     "output_type": "execute_result"
    }
   ],
   "source": [
    "pt2_2 = pt2[df.G == 2].groupby('BP').count()\n",
    "pt2_2 / pt2_2.sum()"
   ]
  },
  {
   "cell_type": "code",
   "execution_count": 9,
   "metadata": {},
   "outputs": [
    {
     "data": {
      "text/html": [
       "<div>\n",
       "<style scoped>\n",
       "    .dataframe tbody tr th:only-of-type {\n",
       "        vertical-align: middle;\n",
       "    }\n",
       "\n",
       "    .dataframe tbody tr th {\n",
       "        vertical-align: top;\n",
       "    }\n",
       "\n",
       "    .dataframe thead th {\n",
       "        text-align: right;\n",
       "    }\n",
       "</style>\n",
       "<table border=\"1\" class=\"dataframe\">\n",
       "  <thead>\n",
       "    <tr style=\"text-align: right;\">\n",
       "      <th></th>\n",
       "      <th>HD</th>\n",
       "      <th>BP</th>\n",
       "      <th>CH</th>\n",
       "    </tr>\n",
       "  </thead>\n",
       "  <tbody>\n",
       "    <tr>\n",
       "      <th>37</th>\n",
       "      <td>1</td>\n",
       "      <td>1</td>\n",
       "      <td>1</td>\n",
       "    </tr>\n",
       "    <tr>\n",
       "      <th>41</th>\n",
       "      <td>1</td>\n",
       "      <td>1</td>\n",
       "      <td>1</td>\n",
       "    </tr>\n",
       "    <tr>\n",
       "      <th>42</th>\n",
       "      <td>1</td>\n",
       "      <td>1</td>\n",
       "      <td>1</td>\n",
       "    </tr>\n",
       "    <tr>\n",
       "      <th>82</th>\n",
       "      <td>1</td>\n",
       "      <td>1</td>\n",
       "      <td>1</td>\n",
       "    </tr>\n",
       "    <tr>\n",
       "      <th>91</th>\n",
       "      <td>1</td>\n",
       "      <td>1</td>\n",
       "      <td>1</td>\n",
       "    </tr>\n",
       "    <tr>\n",
       "      <th>...</th>\n",
       "      <td>...</td>\n",
       "      <td>...</td>\n",
       "      <td>...</td>\n",
       "    </tr>\n",
       "    <tr>\n",
       "      <th>226</th>\n",
       "      <td>2</td>\n",
       "      <td>2</td>\n",
       "      <td>2</td>\n",
       "    </tr>\n",
       "    <tr>\n",
       "      <th>227</th>\n",
       "      <td>2</td>\n",
       "      <td>2</td>\n",
       "      <td>2</td>\n",
       "    </tr>\n",
       "    <tr>\n",
       "      <th>231</th>\n",
       "      <td>2</td>\n",
       "      <td>2</td>\n",
       "      <td>2</td>\n",
       "    </tr>\n",
       "    <tr>\n",
       "      <th>237</th>\n",
       "      <td>2</td>\n",
       "      <td>2</td>\n",
       "      <td>2</td>\n",
       "    </tr>\n",
       "    <tr>\n",
       "      <th>241</th>\n",
       "      <td>2</td>\n",
       "      <td>2</td>\n",
       "      <td>2</td>\n",
       "    </tr>\n",
       "  </tbody>\n",
       "</table>\n",
       "<p>243 rows × 3 columns</p>\n",
       "</div>"
      ],
      "text/plain": [
       "    HD BP CH\n",
       "37   1  1  1\n",
       "41   1  1  1\n",
       "42   1  1  1\n",
       "82   1  1  1\n",
       "91   1  1  1\n",
       "..  .. .. ..\n",
       "226  2  2  2\n",
       "227  2  2  2\n",
       "231  2  2  2\n",
       "237  2  2  2\n",
       "241  2  2  2\n",
       "\n",
       "[243 rows x 3 columns]"
      ]
     },
     "execution_count": 9,
     "metadata": {},
     "output_type": "execute_result"
    }
   ],
   "source": [
    "pt3 = df[['HD', 'BP', 'CH']].sort_values(['CH', 'BP', 'HD'])\n",
    "pt3"
   ]
  },
  {
   "cell_type": "code",
   "execution_count": 10,
   "metadata": {},
   "outputs": [
    {
     "data": {
      "text/plain": [
       "CH  BP  HD\n",
       "1   1   1     10\n",
       "        2      9\n",
       "    2   1     13\n",
       "        2      9\n",
       "2   1   1     51\n",
       "        2     36\n",
       "    2   1     59\n",
       "        2     56\n",
       "dtype: int64"
      ]
     },
     "execution_count": 10,
     "metadata": {},
     "output_type": "execute_result"
    }
   ],
   "source": [
    "pt3.groupby(['CH', 'BP', 'HD']).size()"
   ]
  },
  {
   "cell_type": "code",
   "execution_count": 11,
   "metadata": {},
   "outputs": [
    {
     "data": {
      "text/html": [
       "<div>\n",
       "<style scoped>\n",
       "    .dataframe tbody tr th:only-of-type {\n",
       "        vertical-align: middle;\n",
       "    }\n",
       "\n",
       "    .dataframe tbody tr th {\n",
       "        vertical-align: top;\n",
       "    }\n",
       "\n",
       "    .dataframe thead th {\n",
       "        text-align: right;\n",
       "    }\n",
       "</style>\n",
       "<table border=\"1\" class=\"dataframe\">\n",
       "  <thead>\n",
       "    <tr style=\"text-align: right;\">\n",
       "      <th></th>\n",
       "      <th>HD</th>\n",
       "      <th>BP</th>\n",
       "      <th>CH</th>\n",
       "    </tr>\n",
       "  </thead>\n",
       "  <tbody>\n",
       "    <tr>\n",
       "      <th>37</th>\n",
       "      <td>1</td>\n",
       "      <td>1</td>\n",
       "      <td>1</td>\n",
       "    </tr>\n",
       "    <tr>\n",
       "      <th>41</th>\n",
       "      <td>1</td>\n",
       "      <td>1</td>\n",
       "      <td>1</td>\n",
       "    </tr>\n",
       "    <tr>\n",
       "      <th>42</th>\n",
       "      <td>1</td>\n",
       "      <td>1</td>\n",
       "      <td>1</td>\n",
       "    </tr>\n",
       "    <tr>\n",
       "      <th>82</th>\n",
       "      <td>1</td>\n",
       "      <td>1</td>\n",
       "      <td>1</td>\n",
       "    </tr>\n",
       "    <tr>\n",
       "      <th>91</th>\n",
       "      <td>1</td>\n",
       "      <td>1</td>\n",
       "      <td>1</td>\n",
       "    </tr>\n",
       "    <tr>\n",
       "      <th>126</th>\n",
       "      <td>1</td>\n",
       "      <td>1</td>\n",
       "      <td>1</td>\n",
       "    </tr>\n",
       "    <tr>\n",
       "      <th>133</th>\n",
       "      <td>1</td>\n",
       "      <td>1</td>\n",
       "      <td>1</td>\n",
       "    </tr>\n",
       "    <tr>\n",
       "      <th>151</th>\n",
       "      <td>1</td>\n",
       "      <td>1</td>\n",
       "      <td>1</td>\n",
       "    </tr>\n",
       "    <tr>\n",
       "      <th>172</th>\n",
       "      <td>1</td>\n",
       "      <td>1</td>\n",
       "      <td>1</td>\n",
       "    </tr>\n",
       "    <tr>\n",
       "      <th>178</th>\n",
       "      <td>1</td>\n",
       "      <td>1</td>\n",
       "      <td>1</td>\n",
       "    </tr>\n",
       "    <tr>\n",
       "      <th>24</th>\n",
       "      <td>2</td>\n",
       "      <td>1</td>\n",
       "      <td>1</td>\n",
       "    </tr>\n",
       "    <tr>\n",
       "      <th>30</th>\n",
       "      <td>2</td>\n",
       "      <td>1</td>\n",
       "      <td>1</td>\n",
       "    </tr>\n",
       "    <tr>\n",
       "      <th>47</th>\n",
       "      <td>2</td>\n",
       "      <td>1</td>\n",
       "      <td>1</td>\n",
       "    </tr>\n",
       "    <tr>\n",
       "      <th>52</th>\n",
       "      <td>2</td>\n",
       "      <td>1</td>\n",
       "      <td>1</td>\n",
       "    </tr>\n",
       "    <tr>\n",
       "      <th>84</th>\n",
       "      <td>2</td>\n",
       "      <td>1</td>\n",
       "      <td>1</td>\n",
       "    </tr>\n",
       "    <tr>\n",
       "      <th>112</th>\n",
       "      <td>2</td>\n",
       "      <td>1</td>\n",
       "      <td>1</td>\n",
       "    </tr>\n",
       "    <tr>\n",
       "      <th>187</th>\n",
       "      <td>2</td>\n",
       "      <td>1</td>\n",
       "      <td>1</td>\n",
       "    </tr>\n",
       "    <tr>\n",
       "      <th>233</th>\n",
       "      <td>2</td>\n",
       "      <td>1</td>\n",
       "      <td>1</td>\n",
       "    </tr>\n",
       "    <tr>\n",
       "      <th>235</th>\n",
       "      <td>2</td>\n",
       "      <td>1</td>\n",
       "      <td>1</td>\n",
       "    </tr>\n",
       "  </tbody>\n",
       "</table>\n",
       "</div>"
      ],
      "text/plain": [
       "    HD BP CH\n",
       "37   1  1  1\n",
       "41   1  1  1\n",
       "42   1  1  1\n",
       "82   1  1  1\n",
       "91   1  1  1\n",
       "126  1  1  1\n",
       "133  1  1  1\n",
       "151  1  1  1\n",
       "172  1  1  1\n",
       "178  1  1  1\n",
       "24   2  1  1\n",
       "30   2  1  1\n",
       "47   2  1  1\n",
       "52   2  1  1\n",
       "84   2  1  1\n",
       "112  2  1  1\n",
       "187  2  1  1\n",
       "233  2  1  1\n",
       "235  2  1  1"
      ]
     },
     "execution_count": 11,
     "metadata": {},
     "output_type": "execute_result"
    }
   ],
   "source": [
    "# Sanity check\n",
    "pt3.query('BP == 1 and CH == 1') "
   ]
  },
  {
   "cell_type": "code",
   "execution_count": 12,
   "metadata": {},
   "outputs": [
    {
     "name": "stdout",
     "output_type": "stream",
     "text": [
      "0.5263157894736842\n",
      "0.47368421052631576\n",
      "0.5909090909090909\n",
      "0.4090909090909091\n",
      "0.5862068965517241\n",
      "0.41379310344827586\n",
      "0.5130434782608696\n",
      "0.48695652173913045\n"
     ]
    }
   ],
   "source": [
    "print(10 / 19)\n",
    "print(9 / 19)\n",
    "print(13 / 22)\n",
    "print(9 / 22)\n",
    "print(51 / 87)\n",
    "print(36 / 87)\n",
    "print(59 / 115)\n",
    "print(56 / 115)"
   ]
  },
  {
   "cell_type": "code",
   "execution_count": 13,
   "metadata": {},
   "outputs": [
    {
     "data": {
      "text/html": [
       "<div>\n",
       "<style scoped>\n",
       "    .dataframe tbody tr th:only-of-type {\n",
       "        vertical-align: middle;\n",
       "    }\n",
       "\n",
       "    .dataframe tbody tr th {\n",
       "        vertical-align: top;\n",
       "    }\n",
       "\n",
       "    .dataframe thead th {\n",
       "        text-align: right;\n",
       "    }\n",
       "</style>\n",
       "<table border=\"1\" class=\"dataframe\">\n",
       "  <thead>\n",
       "    <tr style=\"text-align: right;\">\n",
       "      <th></th>\n",
       "      <th>HR</th>\n",
       "      <th>A</th>\n",
       "      <th>HD</th>\n",
       "    </tr>\n",
       "  </thead>\n",
       "  <tbody>\n",
       "    <tr>\n",
       "      <th>0</th>\n",
       "      <td>1</td>\n",
       "      <td>3</td>\n",
       "      <td>2</td>\n",
       "    </tr>\n",
       "    <tr>\n",
       "      <th>1</th>\n",
       "      <td>1</td>\n",
       "      <td>3</td>\n",
       "      <td>2</td>\n",
       "    </tr>\n",
       "    <tr>\n",
       "      <th>2</th>\n",
       "      <td>2</td>\n",
       "      <td>1</td>\n",
       "      <td>1</td>\n",
       "    </tr>\n",
       "    <tr>\n",
       "      <th>3</th>\n",
       "      <td>2</td>\n",
       "      <td>1</td>\n",
       "      <td>1</td>\n",
       "    </tr>\n",
       "    <tr>\n",
       "      <th>4</th>\n",
       "      <td>2</td>\n",
       "      <td>3</td>\n",
       "      <td>1</td>\n",
       "    </tr>\n",
       "  </tbody>\n",
       "</table>\n",
       "</div>"
      ],
      "text/plain": [
       "  HR  A HD\n",
       "0  1  3  2\n",
       "1  1  3  2\n",
       "2  2  1  1\n",
       "3  2  1  1\n",
       "4  2  3  1"
      ]
     },
     "execution_count": 13,
     "metadata": {},
     "output_type": "execute_result"
    }
   ],
   "source": [
    "pt4 = df[['HR', 'A', 'HD']]\n",
    "pt4.head()"
   ]
  },
  {
   "cell_type": "code",
   "execution_count": 14,
   "metadata": {},
   "outputs": [
    {
     "data": {
      "text/plain": [
       "HD  A  HR\n",
       "1   1  1      2\n",
       "       2     31\n",
       "    2  1      9\n",
       "       2     43\n",
       "    3  1     16\n",
       "       2     32\n",
       "2   1  1      6\n",
       "       2      4\n",
       "    2  1     12\n",
       "       2     11\n",
       "    3  1     44\n",
       "       2     33\n",
       "dtype: int64"
      ]
     },
     "execution_count": 14,
     "metadata": {},
     "output_type": "execute_result"
    }
   ],
   "source": [
    "pt4.groupby(['HD', 'A', 'HR']).size()"
   ]
  },
  {
   "cell_type": "code",
   "execution_count": 15,
   "metadata": {},
   "outputs": [
    {
     "data": {
      "text/html": [
       "<div>\n",
       "<style scoped>\n",
       "    .dataframe tbody tr th:only-of-type {\n",
       "        vertical-align: middle;\n",
       "    }\n",
       "\n",
       "    .dataframe tbody tr th {\n",
       "        vertical-align: top;\n",
       "    }\n",
       "\n",
       "    .dataframe thead th {\n",
       "        text-align: right;\n",
       "    }\n",
       "</style>\n",
       "<table border=\"1\" class=\"dataframe\">\n",
       "  <thead>\n",
       "    <tr style=\"text-align: right;\">\n",
       "      <th></th>\n",
       "      <th>A</th>\n",
       "      <th>G</th>\n",
       "      <th>CP</th>\n",
       "      <th>BP</th>\n",
       "      <th>CH</th>\n",
       "      <th>ECG</th>\n",
       "      <th>HR</th>\n",
       "      <th>EIA</th>\n",
       "      <th>HD</th>\n",
       "    </tr>\n",
       "  </thead>\n",
       "  <tbody>\n",
       "    <tr>\n",
       "      <th>0</th>\n",
       "      <td>3</td>\n",
       "      <td>2</td>\n",
       "      <td>4</td>\n",
       "      <td>2</td>\n",
       "      <td>2</td>\n",
       "      <td>2</td>\n",
       "      <td>1</td>\n",
       "      <td>2</td>\n",
       "      <td>2</td>\n",
       "    </tr>\n",
       "    <tr>\n",
       "      <th>1</th>\n",
       "      <td>3</td>\n",
       "      <td>2</td>\n",
       "      <td>4</td>\n",
       "      <td>1</td>\n",
       "      <td>2</td>\n",
       "      <td>2</td>\n",
       "      <td>1</td>\n",
       "      <td>2</td>\n",
       "      <td>2</td>\n",
       "    </tr>\n",
       "    <tr>\n",
       "      <th>2</th>\n",
       "      <td>1</td>\n",
       "      <td>2</td>\n",
       "      <td>3</td>\n",
       "      <td>2</td>\n",
       "      <td>2</td>\n",
       "      <td>1</td>\n",
       "      <td>2</td>\n",
       "      <td>1</td>\n",
       "      <td>1</td>\n",
       "    </tr>\n",
       "    <tr>\n",
       "      <th>3</th>\n",
       "      <td>1</td>\n",
       "      <td>1</td>\n",
       "      <td>2</td>\n",
       "      <td>2</td>\n",
       "      <td>2</td>\n",
       "      <td>2</td>\n",
       "      <td>2</td>\n",
       "      <td>1</td>\n",
       "      <td>1</td>\n",
       "    </tr>\n",
       "    <tr>\n",
       "      <th>4</th>\n",
       "      <td>3</td>\n",
       "      <td>2</td>\n",
       "      <td>2</td>\n",
       "      <td>1</td>\n",
       "      <td>2</td>\n",
       "      <td>1</td>\n",
       "      <td>2</td>\n",
       "      <td>1</td>\n",
       "      <td>1</td>\n",
       "    </tr>\n",
       "  </tbody>\n",
       "</table>\n",
       "</div>"
      ],
      "text/plain": [
       "   A  G CP BP CH ECG HR EIA HD\n",
       "0  3  2  4  2  2   2  1   2  2\n",
       "1  3  2  4  1  2   2  1   2  2\n",
       "2  1  2  3  2  2   1  2   1  1\n",
       "3  1  1  2  2  2   2  2   1  1\n",
       "4  3  2  2  1  2   1  2   1  1"
      ]
     },
     "execution_count": 15,
     "metadata": {},
     "output_type": "execute_result"
    }
   ],
   "source": [
    "df.head()"
   ]
  },
  {
   "cell_type": "code",
   "execution_count": 16,
   "metadata": {},
   "outputs": [
    {
     "data": {
      "text/plain": [
       "A  G  CP  BP  CH  ECG  HR  EIA  HD\n",
       "1  1  1   1   1   1    1   1    1     0\n",
       "                                2     0\n",
       "                           2    1     0\n",
       "                                2     0\n",
       "                       2   1    1     0\n",
       "                                     ..\n",
       "3  2  4   2   2   2    1   2    2     6\n",
       "                       2   1    1     1\n",
       "                                2     2\n",
       "                           2    1     0\n",
       "                                2     1\n",
       "Length: 1536, dtype: int64"
      ]
     },
     "execution_count": 16,
     "metadata": {},
     "output_type": "execute_result"
    }
   ],
   "source": [
    "parameters = df.groupby(['A', 'G', 'CP', 'BP', 'CH', 'ECG', 'HR', 'EIA', 'HD'])\n",
    "parameters.size()"
   ]
  },
  {
   "cell_type": "code",
   "execution_count": 17,
   "metadata": {},
   "outputs": [
    {
     "ename": "NameError",
     "evalue": "name 'groups' is not defined",
     "output_type": "error",
     "traceback": [
      "\u001b[0;31m---------------------------------------------------------------------------\u001b[0m",
      "\u001b[0;31mNameError\u001b[0m                                 Traceback (most recent call last)",
      "\u001b[0;32m<ipython-input-17-21153bbd28d4>\u001b[0m in \u001b[0;36m<module>\u001b[0;34m\u001b[0m\n\u001b[1;32m      1\u001b[0m \u001b[0mkeys\u001b[0m \u001b[0;34m=\u001b[0m \u001b[0;34m[\u001b[0m\u001b[0;34m]\u001b[0m\u001b[0;34m\u001b[0m\u001b[0;34m\u001b[0m\u001b[0m\n\u001b[0;32m----> 2\u001b[0;31m \u001b[0mparameters\u001b[0m \u001b[0;34m=\u001b[0m \u001b[0mnp\u001b[0m\u001b[0;34m.\u001b[0m\u001b[0marray\u001b[0m\u001b[0;34m(\u001b[0m\u001b[0mlist\u001b[0m\u001b[0;34m(\u001b[0m\u001b[0mgroups\u001b[0m\u001b[0;34m.\u001b[0m\u001b[0mkeys\u001b[0m\u001b[0;34m(\u001b[0m\u001b[0;34m)\u001b[0m\u001b[0;34m)\u001b[0m\u001b[0;34m)\u001b[0m\u001b[0;34m\u001b[0m\u001b[0;34m\u001b[0m\u001b[0m\n\u001b[0m\u001b[1;32m      3\u001b[0m \u001b[0mparameters\u001b[0m\u001b[0;34m.\u001b[0m\u001b[0mshape\u001b[0m\u001b[0;34m\u001b[0m\u001b[0;34m\u001b[0m\u001b[0m\n",
      "\u001b[0;31mNameError\u001b[0m: name 'groups' is not defined"
     ]
    }
   ],
   "source": [
    "keys = []\n",
    "parameters = np.array(list(groups.keys()))\n",
    "parameters.shape"
   ]
  },
  {
   "cell_type": "code",
   "execution_count": null,
   "metadata": {},
   "outputs": [],
   "source": [
    "test_1 = pd.read_csv('./Data/data-test-1.txt', header=None, names=column_names).astype(\"category\")\n",
    "test_1.head()"
   ]
  },
  {
   "cell_type": "code",
   "execution_count": null,
   "metadata": {},
   "outputs": [],
   "source": [
    "len(parameters_1[(3,  2,  4,   2,   2,   2,    1,   1,    2)])"
   ]
  },
  {
   "cell_type": "code",
   "execution_count": null,
   "metadata": {},
   "outputs": [],
   "source": [
    "def get_data(path):\n",
    "    data = pd.read_csv(path, header=None, names=column_names).astype(\"category\")\n",
    "    return data"
   ]
  },
  {
   "cell_type": "code",
   "execution_count": null,
   "metadata": {},
   "outputs": [],
   "source": [
    "def get_parameters(train_data):\n",
    "    return train_data.groupby(['A', 'G', 'CP', 'BP', 'CH', 'ECG', 'HR', 'EIA', 'HD']).groups"
   ]
  },
  {
   "cell_type": "code",
   "execution_count": null,
   "metadata": {},
   "outputs": [],
   "source": [
    "def inference(parameters, test_data):\n",
    "    pred_count = 0\n",
    "\n",
    "    for i, test_case in test_data.iterrows():\n",
    "        features = test_case.to_list()\n",
    "        values = features[:8]\n",
    "        true_label = features[8]\n",
    "\n",
    "        values_hd_1 = tuple(values + [1])\n",
    "        values_hd_2 = tuple(values + [2])\n",
    "\n",
    "        try:\n",
    "            count_hd_1 = len(parameters[values_hd_1])\n",
    "        except:\n",
    "            count_hd_1 = 0\n",
    "\n",
    "        try:\n",
    "            count_hd_2 = len(parameters[values_hd_2])\n",
    "        except:\n",
    "            count_hd_2 = 0\n",
    "\n",
    "        pred = 1 if count_hd_1 >= count_hd_2 else 2\n",
    "\n",
    "        if pred == true_label:\n",
    "            pred_count += 1\n",
    "\n",
    "    acc = pred_count / len(test_1)\n",
    "    return acc"
   ]
  },
  {
   "cell_type": "code",
   "execution_count": null,
   "metadata": {},
   "outputs": [],
   "source": [
    "accuracies = []\n",
    "for i in range(5):\n",
    "    acc = inference(get_parameters(get_data(f'./Data/data-train-{i + 1}.txt')), \n",
    "                    get_data(f'./Data/data-test-{i + 1}.txt'))\n",
    "    accuracies.append(acc)"
   ]
  },
  {
   "cell_type": "code",
   "execution_count": null,
   "metadata": {},
   "outputs": [],
   "source": [
    "accuracies = np.array(accuracies)\n",
    "print('Mean accuracy', accuracies.mean())\n",
    "print('Std dev', accuracies.std())"
   ]
  },
  {
   "cell_type": "code",
   "execution_count": null,
   "metadata": {},
   "outputs": [],
   "source": [
    "p_a = df[['CH', 'G', 'A']].query('G == 2 and A == 2').groupby(['CH']).size()\n",
    "p_a"
   ]
  },
  {
   "cell_type": "code",
   "execution_count": null,
   "metadata": {},
   "outputs": [],
   "source": [
    "p_a_b = df[['HD', 'BP', 'CH']].query('BP == 1 and CH == 2').groupby(['HD']).size()\n",
    "p_a_b"
   ]
  },
  {
   "cell_type": "code",
   "execution_count": null,
   "metadata": {},
   "outputs": [],
   "source": [
    "a = 0.166 * 0.52631\n",
    "b = 0.834 * 0.5862\n",
    "\n",
    "print('5 (a)')\n",
    "print(a / (a + b), b / (a + b))"
   ]
  },
  {
   "cell_type": "code",
   "execution_count": null,
   "metadata": {},
   "outputs": [],
   "source": [
    "# HD = No | BP = L, CH = H\n",
    "p_b_1 = df[['HD', 'BP', 'CH']].query('BP == 1 and CH == 2').groupby(['HD']).size()\n",
    "print(p_b_1)\n",
    "\n",
    "# P(HD = No)\n",
    "print(51 / (87))"
   ]
  },
  {
   "cell_type": "code",
   "execution_count": null,
   "metadata": {},
   "outputs": [],
   "source": [
    "# P(G = 1)\n",
    "p_b_2 = df[['G']].groupby(['G']).size()\n",
    "print(p_b_2)\n",
    "\n",
    "print(82 / (82 + 161))"
   ]
  },
  {
   "cell_type": "code",
   "execution_count": null,
   "metadata": {},
   "outputs": [],
   "source": [
    "df[['BP', 'G']].query('G == 1').groupby(['BP']).size()\n",
    "print('P(BP = L | G = 1)', 30 / 82)\n",
    "\n",
    "df[['BP', 'G']].query('G == 2').groupby(['BP']).size()\n",
    "print('P(BP = L | G = 2)', 76 / (76 + 85))"
   ]
  },
  {
   "cell_type": "code",
   "execution_count": null,
   "metadata": {},
   "outputs": [],
   "source": [
    "df[['CH', 'A', 'G']].query('G == 1 and A == 2').groupby(['CH']).size()\n",
    "print('P(CH = H | A = 2, G = 1)', 18 / 21)\n",
    "\n",
    "df[['CH', 'A', 'G']].query('G == 2 and A == 2').groupby(['CH']).size()\n",
    "print('P(CH = H | A = 2, G = 2)', 45 / 54)"
   ]
  },
  {
   "cell_type": "code",
   "execution_count": null,
   "metadata": {},
   "outputs": [],
   "source": [
    "p_1 = 0.586 * (0.337 * 0.336 * 0.857 + 0.663 * 0.472 * 0.833)\n",
    "\n",
    "print('P(BP = L | ...)', p_1)"
   ]
  },
  {
   "cell_type": "code",
   "execution_count": null,
   "metadata": {},
   "outputs": [],
   "source": [
    "df[['HD', 'BP', 'CH']].query('BP == 2 and CH == 2').groupby(['HD']).size()\n",
    "print('P(HD = No | BP = H, CH = 2)', 59 / (59 + 56))"
   ]
  },
  {
   "cell_type": "code",
   "execution_count": null,
   "metadata": {},
   "outputs": [],
   "source": [
    "df[['BP', 'G']].query('G == 1').groupby(['BP']).size()\n",
    "print('P(BP = H | G = 1)', 52 / 82)\n",
    "\n",
    "df[['BP', 'G']].query('G == 2').groupby(['BP']).size()\n",
    "print('P(BP = H | G = 2)', 85 / (76 + 85))"
   ]
  },
  {
   "cell_type": "code",
   "execution_count": null,
   "metadata": {},
   "outputs": [],
   "source": [
    "p_2 = 0.513 * (0.337 * 0.634 * 0.857 + 0.663 *0.528 * 0.833)\n",
    "\n",
    "print('P(BP = H | ...)', p_2)"
   ]
  },
  {
   "cell_type": "code",
   "execution_count": null,
   "metadata": {},
   "outputs": [],
   "source": [
    "print('BP = L', p_1 / (p_1 + p_2))\n",
    "print('BP = H', p_2 / (p_1 + p_2))"
   ]
  },
  {
   "cell_type": "code",
   "execution_count": null,
   "metadata": {},
   "outputs": [],
   "source": [
    "def get_hd(df):\n",
    "    def get_p(features, group_by):\n",
    "        counts = df[features].groupby(group_by).size().to_numpy()\n",
    "        return counts / counts.sum()\n",
    "    \n",
    "    # P(HD | BP, CH)\n",
    "    p_hd__bp_ch = get_p(['HD', 'BP', 'CH'], ['HD'])\n",
    "    print(p_hd__bp_ch)\n",
    "    \n",
    "    # P(HD|CP)\n",
    "    print(get_p(['HD', 'CP'], ['HD']))\n",
    "    \n",
    "    # P(EIA | HD)\n",
    "    print(get_p(['HD', 'EIA'], ['HD']))\n",
    "    print(df[['HD', 'ECG']])\n",
    "    \n",
    "    # P(ECG | HD)\n",
    "    print(df[['ECG', 'HD']].groupby(['ECG']).size())\n",
    "    \n",
    "    # P(HR | HD, A)\n",
    "    print(df[['HR', 'HD', 'A']].groupby(['HR']).size())\n",
    "    \n",
    "get_hd(df)"
   ]
  },
  {
   "cell_type": "code",
   "execution_count": null,
   "metadata": {},
   "outputs": [],
   "source": [
    "def get_p(df, features, values, group_by=[\"HD\"]):\n",
    "    query = ' and '.join([f'{feat} == {val}' for feat, val in zip(features[1:], values)])\n",
    "    counts = df[features].query(query).groupby(group_by).size().to_numpy()\n",
    "    prob = counts / (counts.sum())\n",
    "\n",
    "    return prob"
   ]
  },
  {
   "cell_type": "code",
   "execution_count": null,
   "metadata": {},
   "outputs": [],
   "source": [
    "def infer(data, test_cases):\n",
    "    hd = data.groupby([\"HD\"]).size().to_numpy()\n",
    "    correct_preds = 0\n",
    "    total_preds = len(test_cases)\n",
    "    \n",
    "    for i, test_i in test_cases.iterrows():\n",
    "        A, G, CP, BP, CH, ECG, HR, EIA, HD = test_i\n",
    "        \n",
    "        bh_ch = get_p(data, [\"HD\", \"BP\", \"CH\"], [BP, CH])\n",
    "        cp = get_p(data, [\"HD\", \"CP\"], [CP])\n",
    "        eia = get_p(data, [\"HD\", \"EIA\"], [EIA])\n",
    "        ecg = get_p(data, [\"HD\", \"ECG\"], [ECG])\n",
    "        a_hr = get_p(data, [\"HD\", \"A\", \"HR\"], [A, HR])\n",
    "        \n",
    "        a = get_p(data, [\"HD\", \"A\"], [A])    \n",
    "        \n",
    "        p_hd = (bh_ch * cp * eia * ecg * a_hr) / (a * (hd **2))\n",
    "        \n",
    "        pred = np.argmax(p_hd) + 1\n",
    "        if pred == HD:\n",
    "            correct_preds += 1\n",
    "\n",
    "    return correct_preds / total_preds"
   ]
  },
  {
   "cell_type": "code",
   "execution_count": null,
   "metadata": {},
   "outputs": [],
   "source": [
    "infer(get_data('./Data/data-train-1.txt'), get_data('./Data/data-test-1.txt'))"
   ]
  },
  {
   "cell_type": "code",
   "execution_count": null,
   "metadata": {},
   "outputs": [],
   "source": [
    "accuracies = []\n",
    "for i in range(5):\n",
    "    acc = infer(get_data(f'./Data/data-train-{i + 1}.txt'), \n",
    "                    get_data(f'./Data/data-test-{i + 1}.txt'))\n",
    "    accuracies.append(acc)\n",
    "accuracies = np.array(accuracies)\n",
    "\n",
    "print(accuracies)\n",
    "print('Mean accuracy', accuracies.mean())"
   ]
  },
  {
   "cell_type": "markdown",
   "metadata": {},
   "source": [
    "# Better Modelling\n",
    "\n",
    "## Model 1\n",
    "Add an edge from G to HD\n",
    "\n",
    "## Model 2\n",
    "Invert edge from HR and HD"
   ]
  },
  {
   "cell_type": "code",
   "execution_count": null,
   "metadata": {},
   "outputs": [],
   "source": [
    "# Get train and test files\n",
    "data = []\n",
    "for i in range(5):\n",
    "    data.append((get_data(f'./Data/data-train-{i + 1}.txt'), get_data(f'./Data/data-test-{i + 1}.txt')))"
   ]
  },
  {
   "cell_type": "code",
   "execution_count": null,
   "metadata": {},
   "outputs": [],
   "source": [
    "def cross_validation(inference):\n",
    "    accuracies = []\n",
    "    for i in range(5):\n",
    "        acc = inference(*data[i])\n",
    "        accuracies.append(acc)\n",
    "    accuracies = np.array(accuracies)\n",
    "\n",
    "    print(accuracies)\n",
    "    print('Mean accuracy', accuracies.mean())\n",
    "    print('STD', accuracies.std())"
   ]
  },
  {
   "cell_type": "code",
   "execution_count": null,
   "metadata": {},
   "outputs": [],
   "source": [
    "def infer_2(data, test_cases):\n",
    "    hd = data.groupby([\"HD\"]).size().to_numpy()\n",
    "    correct_preds = 0\n",
    "    total_preds = len(test_cases)\n",
    "    \n",
    "    for i, test_i in test_cases.iterrows():\n",
    "        A, G, CP, BP, CH, ECG, HR, EIA, HD = test_i\n",
    "        \n",
    "        bh_ch = get_p(data, [\"HD\", \"BP\", \"CH\", \"G\"], [BP, CH, G])\n",
    "        cp = get_p(data, [\"HD\", \"CP\"], [CP])\n",
    "        eia = get_p(data, [\"HD\", \"EIA\"], [EIA])\n",
    "        ecg = get_p(data, [\"HD\", \"ECG\"], [ECG])\n",
    "        a_hr = get_p(data, [\"HD\", \"A\", \"HR\"], [A, HR])\n",
    "        \n",
    "        a = get_p(data, [\"HD\", \"A\"], [A])\n",
    "        \n",
    "        p_hd = (bh_ch * cp * eia * ecg * a_hr) / (a * (hd ** 3))\n",
    "        \n",
    "        pred = np.argmax(p_hd) + 1\n",
    "        if pred == HD:\n",
    "            correct_preds += 1\n",
    "\n",
    "    return correct_preds / total_preds\n",
    "\n",
    "cross_validation(infer_2)"
   ]
  },
  {
   "cell_type": "code",
   "execution_count": null,
   "metadata": {},
   "outputs": [],
   "source": [
    "def infer_3(data, test_cases):\n",
    "    hd = data.groupby([\"HD\"]).size().to_numpy()\n",
    "    correct_preds = 0\n",
    "    total_preds = len(test_cases)\n",
    "    \n",
    "    for i, test_i in test_cases.iterrows():\n",
    "        A, G, CP, BP, CH, ECG, HR, EIA, HD = test_i\n",
    "        \n",
    "        bp_ch_g = get_p(data, [\"HD\", \"BP\", \"CH\", \"HR\"], [BP, CH, HR])\n",
    "        cp = get_p(data, [\"HD\", \"CP\"], [CP])\n",
    "        eia = get_p(data, [\"HD\", \"EIA\"], [EIA])\n",
    "        ecg = get_p(data, [\"HD\", \"ECG\"], [ECG])\n",
    "        \n",
    "        p_hd = (bp_ch_g * cp * eia * ecg) / (hd ** 3)\n",
    "        \n",
    "        pred = np.argmax(p_hd) + 1\n",
    "        if pred == HD:\n",
    "            correct_preds += 1\n",
    "\n",
    "    return correct_preds / total_preds\n",
    "\n",
    "cross_validation(infer_3)"
   ]
  },
  {
   "cell_type": "code",
   "execution_count": null,
   "metadata": {},
   "outputs": [],
   "source": []
  }
 ],
 "metadata": {
  "kernelspec": {
   "display_name": "Python 3",
   "language": "python",
   "name": "python3"
  },
  "language_info": {
   "codemirror_mode": {
    "name": "ipython",
    "version": 3
   },
   "file_extension": ".py",
   "mimetype": "text/x-python",
   "name": "python",
   "nbconvert_exporter": "python",
   "pygments_lexer": "ipython3",
   "version": "3.6.10"
  }
 },
 "nbformat": 4,
 "nbformat_minor": 4
}
